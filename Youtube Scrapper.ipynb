{
 "cells": [
  {
   "cell_type": "code",
   "execution_count": 2,
   "id": "021a100b",
   "metadata": {},
   "outputs": [],
   "source": [
    "from flask import Flask, render_template, request, jsonify\n",
    "from flask_cors import CORS,cross_origin\n",
    "import logging\n",
    "import os\n",
    "import requests\n",
    "import re\n",
    "import pandas as pd\n",
    "\n",
    "\n"
   ]
  },
  {
   "cell_type": "code",
   "execution_count": 3,
   "id": "e9538643",
   "metadata": {},
   "outputs": [
    {
     "name": "stdout",
     "output_type": "stream",
     "text": [
      "200\n"
     ]
    }
   ],
   "source": [
    "input_text = 'PW-Foundation'\n",
    "url = f'https://www.youtube.com/@{input_text}/videos'\n",
    "\n",
    "headers = {\"User-Agent\": \"Mozilla/5.0 (Windows NT 10.0; Win64; x64) AppleWebKit/537.36 (KHTML, like Gecko) Chrome/58.0.3029.110 Safari/537.36\"}\n",
    "response = requests.get(url, headers=headers)\n",
    "print(response.status_code)\n",
    "response_text = response.text\n"
   ]
  },
  {
   "cell_type": "code",
   "execution_count": 4,
   "id": "8f765117",
   "metadata": {},
   "outputs": [],
   "source": [
    "vid_titles = re.findall('\"title\":{\"runs\":\\[{\"text\":\".*?\"', response_text)"
   ]
  },
  {
   "cell_type": "code",
   "execution_count": 5,
   "id": "5ac7e4a8",
   "metadata": {},
   "outputs": [
    {
     "data": {
      "text/plain": [
       "['\"title\":{\"runs\":[{\"text\":\"How to start class 9th Maths ❓🤔 | Maths Strategy\"',\n",
       " '\"title\":{\"runs\":[{\"text\":\"Ritik Sir ने Class 10th की First Class में ही, बच्चों को कड़वा सच बता दिया 🔴😱 | UDAAN 2024\"',\n",
       " '\"title\":{\"runs\":[{\"text\":\"How to change Mindset from class 10th to 11th ❓ ❓\"',\n",
       " '\"title\":{\"runs\":[{\"text\":\"Bachoo आपके क्या Plan है इस Summer Vacation ❓❓\"',\n",
       " '\"title\":{\"runs\":[{\"text\":\"The Ultimate Class 11th Survival Guide: Tips and Tricks for Success\"',\n",
       " '\"title\":{\"runs\":[{\"text\":\"If not MBBS then What ❓|| Career Options for Biology Students\"',\n",
       " '\"title\":{\"runs\":[{\"text\":\"Why Commerce After 10th, Explore the Best Career Options | Must Watch\"',\n",
       " '\"title\":{\"runs\":[{\"text\":\"Class 10th Ke Baad Konsi Stream Le? || Strategy Wallah || PW Foundation\"',\n",
       " '\"title\":{\"runs\":[{\"text\":\"तो चलिए शुरू करते है AIIMS Jane Ki Tayyari !! Revealing Arjuna NEET Faculties 🙏 Check Description.\"',\n",
       " '\"title\":{\"runs\":[{\"text\":\"Ruman Ashraf - Bihar Board Class 10th TOPPER from PW !! Udaan Batch⚡\"',\n",
       " '\"title\":{\"runs\":[{\"text\":\"Complete Roadmap on How to Start Class 9th 🔥 || Full Year Long Strategy For Students 💯\"',\n",
       " '\"title\":{\"runs\":[{\"text\":\"Class 10th Over 😎 अब Class 11th JEE की तैयारी !! Check Description.\"',\n",
       " '\"title\":{\"runs\":[{\"text\":\"Aarambh Batch 2024 | For CBSE Class 11th Commerce | Biggest Launch🔥\"',\n",
       " '\"title\":{\"runs\":[{\"text\":\"India\\'s NO.1 Batch for Class 10th - UDAAN ⚡ Launching Today !! Check Description.\"',\n",
       " '\"title\":{\"runs\":[{\"text\":\"India\\'s Biggest Scholarship Test for Classes 8th to 12th !! 🔥🔥 || PW SAT 2023 ⚡💥\"',\n",
       " '\"title\":{\"runs\":[{\"text\":\"How to score 95%+ in class 10th? Complete year Powerful Strategy!!\"',\n",
       " '\"title\":{\"runs\":[{\"text\":\"Last 4 Days Left For SST Exam || How To Manage to Score 80/80 in Boards || Class-10th\"',\n",
       " '\"title\":{\"runs\":[{\"text\":\"Benefits of Choosing Commerce After 10th | Commerce क्यों लेना चाहिए? | CBSE | ICSE | State Boards\"',\n",
       " '\"title\":{\"runs\":[{\"text\":\"Complete 𝗖𝗔𝗥𝗕𝗢𝗡 𝗔𝗡𝗗 𝗜𝗧𝗦 𝗖𝗢𝗠𝗣𝗢𝗨𝗡𝗗𝗦 in 90 Minutes | Class 10th Board Exam\"',\n",
       " '\"title\":{\"runs\":[{\"text\":\"Complete 𝗠𝗘𝗧𝗔𝗟𝗦 \\\\u0026 𝗡𝗢𝗡 𝗠𝗘𝗧𝗔𝗟𝗦  in 120 Minutes | Class 10th Board Exam\"',\n",
       " '\"title\":{\"runs\":[{\"text\":\"Complete 𝗔𝗖𝗜𝗗, 𝗕𝗔𝗦𝗘𝗦 𝗔𝗡𝗗 𝗦𝗔𝗟𝗧 in 110 Minutes | Class 10th Board Exam\"',\n",
       " '\"title\":{\"runs\":[{\"text\":\"Complete 𝗖𝗛𝗘𝗠𝗜𝗖𝗔𝗟 𝗥𝗘𝗔𝗖𝗧𝗜𝗢𝗡  in 90 Minutes | Class 10th Board Exam\"',\n",
       " '\"title\":{\"runs\":[{\"text\":\"Complete 𝐇𝐄𝐑𝐄𝐃𝐈𝐓𝐘 𝐀𝐍𝐃 𝐄𝐕𝐎𝐋𝐔𝐓𝐈𝐎𝐍 in 2 Hours|| Class 10th Board Exam\"',\n",
       " '\"title\":{\"runs\":[{\"text\":\"Complete 𝗛𝗢𝗪 𝗗𝗢 𝗢𝗥𝗚𝗔𝗡𝗜𝗦𝗠𝗦 𝗥𝗘𝗣𝗥𝗢𝗗𝗨𝗖𝗘 in 1 Hours 50 Minutes|| Class 10th Board Exam\"',\n",
       " '\"title\":{\"runs\":[{\"text\":\"Complete 𝗢𝗨𝗥 𝗘𝗡𝗩𝗜𝗥𝗢𝗡𝗠𝗘𝗡𝗧 in 1 Hour 30 Minutes | Class 10th Board Exam\"',\n",
       " '\"title\":{\"runs\":[{\"text\":\"Complete 𝗖𝗼𝗻𝘁𝗿𝗼𝗹 𝗮𝗻𝗱 𝗖𝗼𝗼𝗿𝗱𝗶𝗻𝗮𝘁𝗶𝗼𝗻 in 1 Hours 50 Minutes | Class 10th Board Exam\"',\n",
       " '\"title\":{\"runs\":[{\"text\":\"Complete 𝗟𝗶𝗳𝗲 𝗣𝗿𝗼𝗰𝗲𝘀𝘀𝗲𝘀 in 2 Hours 58 Minutes | Class 10th Board Exam\"',\n",
       " '\"title\":{\"runs\":[{\"text\":\"Complete 𝗠𝗮𝗴𝗻𝗲𝘁𝗶𝗰 𝗘𝗳𝗳𝗲𝗰𝘁 𝗼𝗳 𝗘𝗹𝗲𝗰𝘁𝗿𝗶𝗰 𝗖𝘂𝗿𝗿𝗲𝗻𝘁 in 2 Hours 15 Minutes | Class 10th Board Exam\"',\n",
       " '\"title\":{\"runs\":[{\"text\":\"Complete 𝗛𝘂𝗺𝗮𝗻 𝗘𝘆𝗲 \\\\u0026 𝗧𝗵𝗲 𝗖𝗼𝗹𝗼𝘂𝗿𝗳𝘂𝗹 𝗪𝗼𝗿𝗹𝗱 in 2 Hours 24 Minutes | Class 10th Board Exam\"',\n",
       " '\"title\":{\"runs\":[{\"text\":\"Complete 𝗘𝗹𝗲𝗰𝘁𝗿𝗶𝗰𝗶𝘁𝘆 in 2 Hours 4 Minutes  | Class 10th Board Exam\"',\n",
       " '\"title\":{\"runs\":[{\"text\":\"Keyboard shortcuts\"',\n",
       " '\"title\":{\"runs\":[{\"text\":\"Playback\"',\n",
       " '\"title\":{\"runs\":[{\"text\":\"General\"',\n",
       " '\"title\":{\"runs\":[{\"text\":\"Subtitles and closed captions\"',\n",
       " '\"title\":{\"runs\":[{\"text\":\"Spherical videos\"']"
      ]
     },
     "execution_count": 5,
     "metadata": {},
     "output_type": "execute_result"
    }
   ],
   "source": [
    "vid_titles"
   ]
  },
  {
   "cell_type": "code",
   "execution_count": 6,
   "id": "382a2713",
   "metadata": {},
   "outputs": [],
   "source": [
    "vid_thumbnails = re.findall(r\"https://i.ytimg.com/vi/[A-Za-z0-9_-]{11}/[A-Za-z0-9_]{9}.jpg\", response_text)"
   ]
  },
  {
   "cell_type": "code",
   "execution_count": 7,
   "id": "abea29e9",
   "metadata": {},
   "outputs": [
    {
     "data": {
      "text/plain": [
       "['https://i.ytimg.com/vi/9y6ruBLE7z0/hqdefault.jpg',\n",
       " 'https://i.ytimg.com/vi/9y6ruBLE7z0/hqdefault.jpg',\n",
       " 'https://i.ytimg.com/vi/9y6ruBLE7z0/hqdefault.jpg',\n",
       " 'https://i.ytimg.com/vi/9y6ruBLE7z0/hqdefault.jpg',\n",
       " 'https://i.ytimg.com/vi/yv4Gi792S8o/hqdefault.jpg',\n",
       " 'https://i.ytimg.com/vi/yv4Gi792S8o/hqdefault.jpg',\n",
       " 'https://i.ytimg.com/vi/yv4Gi792S8o/hqdefault.jpg',\n",
       " 'https://i.ytimg.com/vi/yv4Gi792S8o/hqdefault.jpg',\n",
       " 'https://i.ytimg.com/vi/aPrSAvwuhTk/hqdefault.jpg',\n",
       " 'https://i.ytimg.com/vi/aPrSAvwuhTk/hqdefault.jpg',\n",
       " 'https://i.ytimg.com/vi/aPrSAvwuhTk/hqdefault.jpg',\n",
       " 'https://i.ytimg.com/vi/aPrSAvwuhTk/hqdefault.jpg',\n",
       " 'https://i.ytimg.com/vi/tigMKfSBJ9E/hqdefault.jpg',\n",
       " 'https://i.ytimg.com/vi/tigMKfSBJ9E/hqdefault.jpg',\n",
       " 'https://i.ytimg.com/vi/tigMKfSBJ9E/hqdefault.jpg',\n",
       " 'https://i.ytimg.com/vi/tigMKfSBJ9E/hqdefault.jpg',\n",
       " 'https://i.ytimg.com/vi/2OrYDCb737E/hqdefault.jpg',\n",
       " 'https://i.ytimg.com/vi/2OrYDCb737E/hqdefault.jpg',\n",
       " 'https://i.ytimg.com/vi/2OrYDCb737E/hqdefault.jpg',\n",
       " 'https://i.ytimg.com/vi/2OrYDCb737E/hqdefault.jpg',\n",
       " 'https://i.ytimg.com/vi/U1FxvG4GNAY/hqdefault.jpg',\n",
       " 'https://i.ytimg.com/vi/U1FxvG4GNAY/hqdefault.jpg',\n",
       " 'https://i.ytimg.com/vi/U1FxvG4GNAY/hqdefault.jpg',\n",
       " 'https://i.ytimg.com/vi/U1FxvG4GNAY/hqdefault.jpg',\n",
       " 'https://i.ytimg.com/vi/t961YvjKH20/hqdefault.jpg',\n",
       " 'https://i.ytimg.com/vi/t961YvjKH20/hqdefault.jpg',\n",
       " 'https://i.ytimg.com/vi/t961YvjKH20/hqdefault.jpg',\n",
       " 'https://i.ytimg.com/vi/t961YvjKH20/hqdefault.jpg',\n",
       " 'https://i.ytimg.com/vi/XA03UtMWbIA/hqdefault.jpg',\n",
       " 'https://i.ytimg.com/vi/XA03UtMWbIA/hqdefault.jpg',\n",
       " 'https://i.ytimg.com/vi/XA03UtMWbIA/hqdefault.jpg',\n",
       " 'https://i.ytimg.com/vi/XA03UtMWbIA/hqdefault.jpg',\n",
       " 'https://i.ytimg.com/vi/9jfTn4lcLu4/hqdefault.jpg',\n",
       " 'https://i.ytimg.com/vi/9jfTn4lcLu4/hqdefault.jpg',\n",
       " 'https://i.ytimg.com/vi/9jfTn4lcLu4/hqdefault.jpg',\n",
       " 'https://i.ytimg.com/vi/9jfTn4lcLu4/hqdefault.jpg',\n",
       " 'https://i.ytimg.com/vi/c_pKfD4UgFg/hqdefault.jpg',\n",
       " 'https://i.ytimg.com/vi/c_pKfD4UgFg/hqdefault.jpg',\n",
       " 'https://i.ytimg.com/vi/c_pKfD4UgFg/hqdefault.jpg',\n",
       " 'https://i.ytimg.com/vi/c_pKfD4UgFg/hqdefault.jpg',\n",
       " 'https://i.ytimg.com/vi/RWcwMNVdp9c/hqdefault.jpg',\n",
       " 'https://i.ytimg.com/vi/RWcwMNVdp9c/hqdefault.jpg',\n",
       " 'https://i.ytimg.com/vi/RWcwMNVdp9c/hqdefault.jpg',\n",
       " 'https://i.ytimg.com/vi/RWcwMNVdp9c/hqdefault.jpg',\n",
       " 'https://i.ytimg.com/vi/jzclZf2NaFM/hqdefault.jpg',\n",
       " 'https://i.ytimg.com/vi/jzclZf2NaFM/hqdefault.jpg',\n",
       " 'https://i.ytimg.com/vi/jzclZf2NaFM/hqdefault.jpg',\n",
       " 'https://i.ytimg.com/vi/jzclZf2NaFM/hqdefault.jpg',\n",
       " 'https://i.ytimg.com/vi/hzwEXoQDNCs/hqdefault.jpg',\n",
       " 'https://i.ytimg.com/vi/hzwEXoQDNCs/hqdefault.jpg',\n",
       " 'https://i.ytimg.com/vi/hzwEXoQDNCs/hqdefault.jpg',\n",
       " 'https://i.ytimg.com/vi/hzwEXoQDNCs/hqdefault.jpg',\n",
       " 'https://i.ytimg.com/vi/0s6hAsFGxYE/hqdefault.jpg',\n",
       " 'https://i.ytimg.com/vi/0s6hAsFGxYE/hqdefault.jpg',\n",
       " 'https://i.ytimg.com/vi/0s6hAsFGxYE/hqdefault.jpg',\n",
       " 'https://i.ytimg.com/vi/0s6hAsFGxYE/hqdefault.jpg',\n",
       " 'https://i.ytimg.com/vi/YXRyMc_noiE/hqdefault.jpg',\n",
       " 'https://i.ytimg.com/vi/YXRyMc_noiE/hqdefault.jpg',\n",
       " 'https://i.ytimg.com/vi/YXRyMc_noiE/hqdefault.jpg',\n",
       " 'https://i.ytimg.com/vi/YXRyMc_noiE/hqdefault.jpg',\n",
       " 'https://i.ytimg.com/vi/PI1obes98Zc/hqdefault.jpg',\n",
       " 'https://i.ytimg.com/vi/PI1obes98Zc/hqdefault.jpg',\n",
       " 'https://i.ytimg.com/vi/PI1obes98Zc/hqdefault.jpg',\n",
       " 'https://i.ytimg.com/vi/PI1obes98Zc/hqdefault.jpg',\n",
       " 'https://i.ytimg.com/vi/16fUsD0M1-I/hqdefault.jpg',\n",
       " 'https://i.ytimg.com/vi/16fUsD0M1-I/hqdefault.jpg',\n",
       " 'https://i.ytimg.com/vi/16fUsD0M1-I/hqdefault.jpg',\n",
       " 'https://i.ytimg.com/vi/16fUsD0M1-I/hqdefault.jpg',\n",
       " 'https://i.ytimg.com/vi/S0RySN5arvk/hqdefault.jpg',\n",
       " 'https://i.ytimg.com/vi/S0RySN5arvk/hqdefault.jpg',\n",
       " 'https://i.ytimg.com/vi/S0RySN5arvk/hqdefault.jpg',\n",
       " 'https://i.ytimg.com/vi/S0RySN5arvk/hqdefault.jpg',\n",
       " 'https://i.ytimg.com/vi/HzBhwxMrt8A/hqdefault.jpg',\n",
       " 'https://i.ytimg.com/vi/HzBhwxMrt8A/hqdefault.jpg',\n",
       " 'https://i.ytimg.com/vi/HzBhwxMrt8A/hqdefault.jpg',\n",
       " 'https://i.ytimg.com/vi/HzBhwxMrt8A/hqdefault.jpg',\n",
       " 'https://i.ytimg.com/vi/60_B3haKADw/hqdefault.jpg',\n",
       " 'https://i.ytimg.com/vi/60_B3haKADw/hqdefault.jpg',\n",
       " 'https://i.ytimg.com/vi/60_B3haKADw/hqdefault.jpg',\n",
       " 'https://i.ytimg.com/vi/60_B3haKADw/hqdefault.jpg',\n",
       " 'https://i.ytimg.com/vi/46CNHP9wBAs/hqdefault.jpg',\n",
       " 'https://i.ytimg.com/vi/46CNHP9wBAs/hqdefault.jpg',\n",
       " 'https://i.ytimg.com/vi/46CNHP9wBAs/hqdefault.jpg',\n",
       " 'https://i.ytimg.com/vi/46CNHP9wBAs/hqdefault.jpg',\n",
       " 'https://i.ytimg.com/vi/1Wk5gJtZ2sQ/hqdefault.jpg',\n",
       " 'https://i.ytimg.com/vi/1Wk5gJtZ2sQ/hqdefault.jpg',\n",
       " 'https://i.ytimg.com/vi/1Wk5gJtZ2sQ/hqdefault.jpg',\n",
       " 'https://i.ytimg.com/vi/1Wk5gJtZ2sQ/hqdefault.jpg',\n",
       " 'https://i.ytimg.com/vi/iM_hVnElC-Q/hqdefault.jpg',\n",
       " 'https://i.ytimg.com/vi/iM_hVnElC-Q/hqdefault.jpg',\n",
       " 'https://i.ytimg.com/vi/iM_hVnElC-Q/hqdefault.jpg',\n",
       " 'https://i.ytimg.com/vi/iM_hVnElC-Q/hqdefault.jpg',\n",
       " 'https://i.ytimg.com/vi/Prly9d7LoAQ/hqdefault.jpg',\n",
       " 'https://i.ytimg.com/vi/Prly9d7LoAQ/hqdefault.jpg',\n",
       " 'https://i.ytimg.com/vi/Prly9d7LoAQ/hqdefault.jpg',\n",
       " 'https://i.ytimg.com/vi/Prly9d7LoAQ/hqdefault.jpg',\n",
       " 'https://i.ytimg.com/vi/AvwBDiCWSEM/hqdefault.jpg',\n",
       " 'https://i.ytimg.com/vi/AvwBDiCWSEM/hqdefault.jpg',\n",
       " 'https://i.ytimg.com/vi/AvwBDiCWSEM/hqdefault.jpg',\n",
       " 'https://i.ytimg.com/vi/AvwBDiCWSEM/hqdefault.jpg',\n",
       " 'https://i.ytimg.com/vi/jQzKkMEaWFA/hqdefault.jpg',\n",
       " 'https://i.ytimg.com/vi/jQzKkMEaWFA/hqdefault.jpg',\n",
       " 'https://i.ytimg.com/vi/jQzKkMEaWFA/hqdefault.jpg',\n",
       " 'https://i.ytimg.com/vi/jQzKkMEaWFA/hqdefault.jpg',\n",
       " 'https://i.ytimg.com/vi/6weIshsiLlM/hqdefault.jpg',\n",
       " 'https://i.ytimg.com/vi/6weIshsiLlM/hqdefault.jpg',\n",
       " 'https://i.ytimg.com/vi/6weIshsiLlM/hqdefault.jpg',\n",
       " 'https://i.ytimg.com/vi/6weIshsiLlM/hqdefault.jpg',\n",
       " 'https://i.ytimg.com/vi/-osuIPJkPWg/hqdefault.jpg',\n",
       " 'https://i.ytimg.com/vi/-osuIPJkPWg/hqdefault.jpg',\n",
       " 'https://i.ytimg.com/vi/-osuIPJkPWg/hqdefault.jpg',\n",
       " 'https://i.ytimg.com/vi/-osuIPJkPWg/hqdefault.jpg',\n",
       " 'https://i.ytimg.com/vi/VsKb_U2-Cx0/hqdefault.jpg',\n",
       " 'https://i.ytimg.com/vi/VsKb_U2-Cx0/hqdefault.jpg',\n",
       " 'https://i.ytimg.com/vi/VsKb_U2-Cx0/hqdefault.jpg',\n",
       " 'https://i.ytimg.com/vi/VsKb_U2-Cx0/hqdefault.jpg',\n",
       " 'https://i.ytimg.com/vi/ZNHlCezYN1I/hqdefault.jpg',\n",
       " 'https://i.ytimg.com/vi/ZNHlCezYN1I/hqdefault.jpg',\n",
       " 'https://i.ytimg.com/vi/ZNHlCezYN1I/hqdefault.jpg',\n",
       " 'https://i.ytimg.com/vi/ZNHlCezYN1I/hqdefault.jpg']"
      ]
     },
     "execution_count": 7,
     "metadata": {},
     "output_type": "execute_result"
    }
   ],
   "source": [
    "vid_thumbnails"
   ]
  },
  {
   "cell_type": "code",
   "execution_count": 8,
   "id": "ce7f589f",
   "metadata": {},
   "outputs": [],
   "source": [
    "vid_links = re.findall(r\"watch\\?v=[A-Za-z0-9_-]{11}\", response_text)"
   ]
  },
  {
   "cell_type": "code",
   "execution_count": 9,
   "id": "d7cba64a",
   "metadata": {},
   "outputs": [
    {
     "data": {
      "text/plain": [
       "['watch?v=9y6ruBLE7z0',\n",
       " 'watch?v=yv4Gi792S8o',\n",
       " 'watch?v=aPrSAvwuhTk',\n",
       " 'watch?v=tigMKfSBJ9E',\n",
       " 'watch?v=2OrYDCb737E',\n",
       " 'watch?v=U1FxvG4GNAY',\n",
       " 'watch?v=t961YvjKH20',\n",
       " 'watch?v=XA03UtMWbIA',\n",
       " 'watch?v=9jfTn4lcLu4',\n",
       " 'watch?v=c_pKfD4UgFg',\n",
       " 'watch?v=RWcwMNVdp9c',\n",
       " 'watch?v=jzclZf2NaFM',\n",
       " 'watch?v=hzwEXoQDNCs',\n",
       " 'watch?v=0s6hAsFGxYE',\n",
       " 'watch?v=YXRyMc_noiE',\n",
       " 'watch?v=PI1obes98Zc',\n",
       " 'watch?v=16fUsD0M1-I',\n",
       " 'watch?v=S0RySN5arvk',\n",
       " 'watch?v=HzBhwxMrt8A',\n",
       " 'watch?v=60_B3haKADw',\n",
       " 'watch?v=46CNHP9wBAs',\n",
       " 'watch?v=1Wk5gJtZ2sQ',\n",
       " 'watch?v=iM_hVnElC-Q',\n",
       " 'watch?v=Prly9d7LoAQ',\n",
       " 'watch?v=AvwBDiCWSEM',\n",
       " 'watch?v=jQzKkMEaWFA',\n",
       " 'watch?v=6weIshsiLlM',\n",
       " 'watch?v=-osuIPJkPWg',\n",
       " 'watch?v=VsKb_U2-Cx0',\n",
       " 'watch?v=ZNHlCezYN1I']"
      ]
     },
     "execution_count": 9,
     "metadata": {},
     "output_type": "execute_result"
    }
   ],
   "source": [
    "vid_links"
   ]
  },
  {
   "cell_type": "code",
   "execution_count": 10,
   "id": "abb183f9",
   "metadata": {},
   "outputs": [],
   "source": [
    "pattern3 = re.compile(r\"[0-9]+(\\.[0-9]+)?[a-zA-Z]*K views\")  # view count"
   ]
  },
  {
   "cell_type": "code",
   "execution_count": 11,
   "id": "18377e88",
   "metadata": {},
   "outputs": [
    {
     "data": {
      "text/plain": [
       "re.compile(r'[0-9]+(\\.[0-9]+)?[a-zA-Z]*K views', re.UNICODE)"
      ]
     },
     "execution_count": 11,
     "metadata": {},
     "output_type": "execute_result"
    }
   ],
   "source": [
    "pattern3"
   ]
  },
  {
   "cell_type": "code",
   "execution_count": 12,
   "id": "297e9bc3",
   "metadata": {},
   "outputs": [
    {
     "data": {
      "text/plain": [
       "re.compile(r'\\d+ (minutes|hours|hour|days|day|weeks|week|years|year) ago',\n",
       "re.UNICODE)"
      ]
     },
     "execution_count": 12,
     "metadata": {},
     "output_type": "execute_result"
    }
   ],
   "source": [
    "pattern4 = re.compile(r\"\\d+ (minutes|hours|hour|days|day|weeks|week|years|year) ago\")  # vedio age\n",
    "pattern4"
   ]
  },
  {
   "cell_type": "code",
   "execution_count": 13,
   "id": "5b52a370",
   "metadata": {},
   "outputs": [],
   "source": [
    "matches1 = pattern3.finditer(response_text)\n",
    "matches2 = pattern4.finditer(response_text)"
   ]
  },
  {
   "cell_type": "code",
   "execution_count": 14,
   "id": "e34e7cab",
   "metadata": {},
   "outputs": [],
   "source": [
    "vid_viewcounts=[]\n",
    "vid_ages=[]\n",
    "count = 0\n",
    "for match1,match2 in zip(matches1,matches2):\n",
    "    vid_ages.append(match2[0])\n",
    "    vid_viewcounts.append(match1[0])"
   ]
  },
  {
   "cell_type": "code",
   "execution_count": 15,
   "id": "22863662",
   "metadata": {},
   "outputs": [
    {
     "data": {
      "text/plain": [
       "[{'title': 'How to start class 9th Maths ❓🤔 | Maths Strategy',\n",
       "  'thumbnail': 'https://i.ytimg.com/vi/9y6ruBLE7z0/hqdefault.jpg',\n",
       "  'link': 'https://www.youtube.com/watch?v=9y6ruBLE7z0',\n",
       "  'viewcount': '5.3K views',\n",
       "  'age': '5 hours ago'},\n",
       " {'title': 'Ritik Sir ने Class 10th की First Class में ही, बच्चों को कड़वा सच बता दिया 🔴😱 | UDAAN 2024',\n",
       "  'thumbnail': 'https://i.ytimg.com/vi/yv4Gi792S8o/hqdefault.jpg',\n",
       "  'link': 'https://www.youtube.com/watch?v=yv4Gi792S8o',\n",
       "  'viewcount': '40K views',\n",
       "  'age': '23 hours ago'},\n",
       " {'title': 'How to change Mindset from class 10th to 11th ❓ ❓',\n",
       "  'thumbnail': 'https://i.ytimg.com/vi/aPrSAvwuhTk/hqdefault.jpg',\n",
       "  'link': 'https://www.youtube.com/watch?v=aPrSAvwuhTk',\n",
       "  'viewcount': '27K views',\n",
       "  'age': '1 day ago'},\n",
       " {'title': 'Bachoo आपके क्या Plan है इस Summer Vacation ❓❓',\n",
       "  'thumbnail': 'https://i.ytimg.com/vi/tigMKfSBJ9E/hqdefault.jpg',\n",
       "  'link': 'https://www.youtube.com/watch?v=tigMKfSBJ9E',\n",
       "  'viewcount': '34K views',\n",
       "  'age': '2 days ago'},\n",
       " {'title': 'The Ultimate Class 11th Survival Guide: Tips and Tricks for Success',\n",
       "  'thumbnail': 'https://i.ytimg.com/vi/2OrYDCb737E/hqdefault.jpg',\n",
       "  'link': 'https://www.youtube.com/watch?v=2OrYDCb737E',\n",
       "  'viewcount': '148K views',\n",
       "  'age': '4 days ago'},\n",
       " {'title': 'If not MBBS then What ❓|| Career Options for Biology Students',\n",
       "  'thumbnail': 'https://i.ytimg.com/vi/U1FxvG4GNAY/hqdefault.jpg',\n",
       "  'link': 'https://www.youtube.com/watch?v=U1FxvG4GNAY',\n",
       "  'viewcount': '35K views',\n",
       "  'age': '5 days ago'},\n",
       " {'title': 'Why Commerce After 10th, Explore the Best Career Options | Must Watch',\n",
       "  'thumbnail': 'https://i.ytimg.com/vi/t961YvjKH20/hqdefault.jpg',\n",
       "  'link': 'https://www.youtube.com/watch?v=t961YvjKH20',\n",
       "  'viewcount': '33K views',\n",
       "  'age': '7 days ago'},\n",
       " {'title': 'Class 10th Ke Baad Konsi Stream Le? || Strategy Wallah || PW Foundation',\n",
       "  'thumbnail': 'https://i.ytimg.com/vi/XA03UtMWbIA/hqdefault.jpg',\n",
       "  'link': 'https://www.youtube.com/watch?v=XA03UtMWbIA',\n",
       "  'viewcount': '62K views',\n",
       "  'age': '7 days ago'},\n",
       " {'title': 'तो चलिए शुरू करते है AIIMS Jane Ki Tayyari !! Revealing Arjuna NEET Faculties 🙏 Check Description.',\n",
       "  'thumbnail': 'https://i.ytimg.com/vi/9jfTn4lcLu4/hqdefault.jpg',\n",
       "  'link': 'https://www.youtube.com/watch?v=9jfTn4lcLu4',\n",
       "  'viewcount': '60K views',\n",
       "  'age': '9 days ago'},\n",
       " {'title': 'Ruman Ashraf - Bihar Board Class 10th TOPPER from PW !! Udaan Batch⚡',\n",
       "  'thumbnail': 'https://i.ytimg.com/vi/c_pKfD4UgFg/hqdefault.jpg',\n",
       "  'link': 'https://www.youtube.com/watch?v=c_pKfD4UgFg',\n",
       "  'viewcount': '77K views',\n",
       "  'age': '9 days ago'}]"
      ]
     },
     "execution_count": 15,
     "metadata": {},
     "output_type": "execute_result"
    }
   ],
   "source": [
    "titles = vid_titles[0:10]\n",
    "thumbnails = list(dict.fromkeys(vid_thumbnails))\n",
    "links = vid_links[0:10]\n",
    "viewcounts=vid_viewcounts[0:20:2]\n",
    "ages=vid_ages[0:20:2]\n",
    "\n",
    "details_list=[]\n",
    "\n",
    "for title,thumbnail,link,viewcount,age in zip(titles,thumbnails,links,viewcounts,ages):\n",
    "    details_dict={\n",
    "    \"title\":title.split('\"')[-2], \"thumbnail\": thumbnail, \"link\": \"https://www.youtube.com/\"+link,\n",
    "    \"viewcount\": viewcount, \"age\": age\n",
    "    }\n",
    "    details_list.append(details_dict)\n",
    "\n",
    "\n",
    "\n",
    "details_list"
   ]
  },
  {
   "cell_type": "code",
   "execution_count": 16,
   "id": "35f1f5a7",
   "metadata": {},
   "outputs": [],
   "source": []
  },
  {
   "cell_type": "code",
   "execution_count": null,
   "id": "6f66bdbb",
   "metadata": {},
   "outputs": [],
   "source": []
  }
 ],
 "metadata": {
  "kernelspec": {
   "display_name": "Python 3 (ipykernel)",
   "language": "python",
   "name": "python3"
  },
  "language_info": {
   "codemirror_mode": {
    "name": "ipython",
    "version": 3
   },
   "file_extension": ".py",
   "mimetype": "text/x-python",
   "name": "python",
   "nbconvert_exporter": "python",
   "pygments_lexer": "ipython3",
   "version": "3.9.13"
  }
 },
 "nbformat": 4,
 "nbformat_minor": 5
}
