{
 "cells": [
  {
   "cell_type": "code",
   "execution_count": 7,
   "id": "1d4b9be6",
   "metadata": {},
   "outputs": [],
   "source": [
    "from flask import Flask, render_template, request, jsonify\n",
    "from flask_cors import CORS,cross_origin\n",
    "import logging\n",
    "import os\n",
    "import requests\n",
    "import re\n",
    "import pandas as pd\n",
    "\n",
    "\n"
   ]
  },
  {
   "cell_type": "code",
   "execution_count": 12,
   "id": "1de8ed56",
   "metadata": {},
   "outputs": [
    {
     "name": "stdout",
     "output_type": "stream",
     "text": [
      "200\n"
     ]
    }
   ],
   "source": [
    "input_text = 'Telusko'\n",
    "url = f'https://www.youtube.com/@{input_text}/videos'\n",
    "\n",
    "headers = {\"User-Agent\": \"Mozilla/5.0 (Windows NT 10.0; Win64; x64) AppleWebKit/537.36 (KHTML, like Gecko) Chrome/58.0.3029.110 Safari/537.36\"}\n",
    "response = requests.get(url, headers=headers)\n",
    "print(response.status_code)\n",
    "response_text = response.text\n"
   ]
  },
  {
   "cell_type": "code",
   "execution_count": 13,
   "id": "9d50612d",
   "metadata": {},
   "outputs": [],
   "source": [
    "vid_titles = re.findall('\"title\":{\"runs\":\\[{\"text\":\".*?\"', response_text)"
   ]
  },
  {
   "cell_type": "code",
   "execution_count": 14,
   "id": "4df1efab",
   "metadata": {},
   "outputs": [
    {
     "data": {
      "text/plain": [
       "['\"title\":{\"runs\":[{\"text\":\"Developers, Secure your API | Pynt\"',\n",
       " '\"title\":{\"runs\":[{\"text\":\"Private Blockchain | Hyperledger Fabric | Getting Started\"',\n",
       " '\"title\":{\"runs\":[{\"text\":\"Reading Blockchain Data on Ethereum using Astra Block\"',\n",
       " '\"title\":{\"runs\":[{\"text\":\"What is ORM tool ?\"',\n",
       " '\"title\":{\"runs\":[{\"text\":\"What is Hyperledger Fabric?\"',\n",
       " '\"title\":{\"runs\":[{\"text\":\"What is Blockchain?\"',\n",
       " '\"title\":{\"runs\":[{\"text\":\"Key concepts in Blockchain\"',\n",
       " '\"title\":{\"runs\":[{\"text\":\"What are types of blockchain?\"',\n",
       " '\"title\":{\"runs\":[{\"text\":\"Course Introduction\"',\n",
       " '\"title\":{\"runs\":[{\"text\":\"What is Ethereum?\"',\n",
       " '\"title\":{\"runs\":[{\"text\":\"What is Web3?\"',\n",
       " '\"title\":{\"runs\":[{\"text\":\"11. Threads in Java\"',\n",
       " '\"title\":{\"runs\":[{\"text\":\"10. Collection API in Java\"',\n",
       " '\"title\":{\"runs\":[{\"text\":\"4 .Object Oriented Programming in Java\"',\n",
       " '\"title\":{\"runs\":[{\"text\":\"8. Abstract Class and Interface\"',\n",
       " '\"title\":{\"runs\":[{\"text\":\"5. How Java Works\"',\n",
       " '\"title\":{\"runs\":[{\"text\":\"1. Course Introduction\"',\n",
       " '\"title\":{\"runs\":[{\"text\":\"7. Packages and Access Modifiers in java\"',\n",
       " '\"title\":{\"runs\":[{\"text\":\"9. Exception Handling\"',\n",
       " '\"title\":{\"runs\":[{\"text\":\"6. String and Array\"',\n",
       " '\"title\":{\"runs\":[{\"text\":\"2. Getting used to Java\"',\n",
       " '\"title\":{\"runs\":[{\"text\":\"3. Java fundamentals\"',\n",
       " '\"title\":{\"runs\":[{\"text\":\"#60 Wrapper Class in Java\"',\n",
       " '\"title\":{\"runs\":[{\"text\":\"#99 Map Filter Reduce Sorted  in Java\"',\n",
       " '\"title\":{\"runs\":[{\"text\":\"#98 Stream API in Java\"',\n",
       " '\"title\":{\"runs\":[{\"text\":\"#97 forEach Method in Java\"',\n",
       " '\"title\":{\"runs\":[{\"text\":\"#96 Need of Stream API in Java\"',\n",
       " '\"title\":{\"runs\":[{\"text\":\"#95 Comparator vs Comparable in Java\"',\n",
       " '\"title\":{\"runs\":[{\"text\":\"#94 Map in Java\"',\n",
       " '\"title\":{\"runs\":[{\"text\":\"#93 Set in Java\"',\n",
       " '\"title\":{\"runs\":[{\"text\":\"Want to join this channel?\"',\n",
       " '\"title\":{\"runs\":[{\"text\":\"Keyboard shortcuts\"',\n",
       " '\"title\":{\"runs\":[{\"text\":\"Playback\"',\n",
       " '\"title\":{\"runs\":[{\"text\":\"General\"',\n",
       " '\"title\":{\"runs\":[{\"text\":\"Subtitles and closed captions\"',\n",
       " '\"title\":{\"runs\":[{\"text\":\"Spherical videos\"']"
      ]
     },
     "execution_count": 14,
     "metadata": {},
     "output_type": "execute_result"
    }
   ],
   "source": [
    "vid_titles"
   ]
  },
  {
   "cell_type": "code",
   "execution_count": 15,
   "id": "0693f8d2",
   "metadata": {},
   "outputs": [],
   "source": [
    "vid_thumbnails = re.findall(r\"https://i.ytimg.com/vi/[A-Za-z0-9_-]{11}/[A-Za-z0-9_]{9}.jpg\", response_text)"
   ]
  },
  {
   "cell_type": "code",
   "execution_count": 16,
   "id": "a940a927",
   "metadata": {},
   "outputs": [
    {
     "data": {
      "text/plain": [
       "['https://i.ytimg.com/vi/7DmwEhCYveY/hqdefault.jpg',\n",
       " 'https://i.ytimg.com/vi/7DmwEhCYveY/hqdefault.jpg',\n",
       " 'https://i.ytimg.com/vi/7DmwEhCYveY/hqdefault.jpg',\n",
       " 'https://i.ytimg.com/vi/7DmwEhCYveY/hqdefault.jpg',\n",
       " 'https://i.ytimg.com/vi/rwKPXHUlmks/hqdefault.jpg',\n",
       " 'https://i.ytimg.com/vi/rwKPXHUlmks/hqdefault.jpg',\n",
       " 'https://i.ytimg.com/vi/rwKPXHUlmks/hqdefault.jpg',\n",
       " 'https://i.ytimg.com/vi/rwKPXHUlmks/hqdefault.jpg',\n",
       " 'https://i.ytimg.com/vi/NmbKi3ReCIY/hqdefault.jpg',\n",
       " 'https://i.ytimg.com/vi/NmbKi3ReCIY/hqdefault.jpg',\n",
       " 'https://i.ytimg.com/vi/NmbKi3ReCIY/hqdefault.jpg',\n",
       " 'https://i.ytimg.com/vi/NmbKi3ReCIY/hqdefault.jpg',\n",
       " 'https://i.ytimg.com/vi/wIp3veR_9Ag/hqdefault.jpg',\n",
       " 'https://i.ytimg.com/vi/wIp3veR_9Ag/hqdefault.jpg',\n",
       " 'https://i.ytimg.com/vi/wIp3veR_9Ag/hqdefault.jpg',\n",
       " 'https://i.ytimg.com/vi/wIp3veR_9Ag/hqdefault.jpg',\n",
       " 'https://i.ytimg.com/vi/9YJreDo3Rro/hqdefault.jpg',\n",
       " 'https://i.ytimg.com/vi/9YJreDo3Rro/hqdefault.jpg',\n",
       " 'https://i.ytimg.com/vi/9YJreDo3Rro/hqdefault.jpg',\n",
       " 'https://i.ytimg.com/vi/9YJreDo3Rro/hqdefault.jpg',\n",
       " 'https://i.ytimg.com/vi/gFs1oawp4AQ/hqdefault.jpg',\n",
       " 'https://i.ytimg.com/vi/gFs1oawp4AQ/hqdefault.jpg',\n",
       " 'https://i.ytimg.com/vi/gFs1oawp4AQ/hqdefault.jpg',\n",
       " 'https://i.ytimg.com/vi/gFs1oawp4AQ/hqdefault.jpg',\n",
       " 'https://i.ytimg.com/vi/ioZUnZmGN_Y/hqdefault.jpg',\n",
       " 'https://i.ytimg.com/vi/ioZUnZmGN_Y/hqdefault.jpg',\n",
       " 'https://i.ytimg.com/vi/ioZUnZmGN_Y/hqdefault.jpg',\n",
       " 'https://i.ytimg.com/vi/ioZUnZmGN_Y/hqdefault.jpg',\n",
       " 'https://i.ytimg.com/vi/Jfxh-EKMv6E/hqdefault.jpg',\n",
       " 'https://i.ytimg.com/vi/Jfxh-EKMv6E/hqdefault.jpg',\n",
       " 'https://i.ytimg.com/vi/Jfxh-EKMv6E/hqdefault.jpg',\n",
       " 'https://i.ytimg.com/vi/Jfxh-EKMv6E/hqdefault.jpg',\n",
       " 'https://i.ytimg.com/vi/X1_BZKmKeOg/hqdefault.jpg',\n",
       " 'https://i.ytimg.com/vi/X1_BZKmKeOg/hqdefault.jpg',\n",
       " 'https://i.ytimg.com/vi/X1_BZKmKeOg/hqdefault.jpg',\n",
       " 'https://i.ytimg.com/vi/X1_BZKmKeOg/hqdefault.jpg',\n",
       " 'https://i.ytimg.com/vi/gO_lOF0MqJg/hqdefault.jpg',\n",
       " 'https://i.ytimg.com/vi/gO_lOF0MqJg/hqdefault.jpg',\n",
       " 'https://i.ytimg.com/vi/gO_lOF0MqJg/hqdefault.jpg',\n",
       " 'https://i.ytimg.com/vi/gO_lOF0MqJg/hqdefault.jpg',\n",
       " 'https://i.ytimg.com/vi/kTzW19homGM/hqdefault.jpg',\n",
       " 'https://i.ytimg.com/vi/kTzW19homGM/hqdefault.jpg',\n",
       " 'https://i.ytimg.com/vi/kTzW19homGM/hqdefault.jpg',\n",
       " 'https://i.ytimg.com/vi/kTzW19homGM/hqdefault.jpg',\n",
       " 'https://i.ytimg.com/vi/-41EHhuybOQ/hqdefault.jpg',\n",
       " 'https://i.ytimg.com/vi/-41EHhuybOQ/hqdefault.jpg',\n",
       " 'https://i.ytimg.com/vi/-41EHhuybOQ/hqdefault.jpg',\n",
       " 'https://i.ytimg.com/vi/-41EHhuybOQ/hqdefault.jpg',\n",
       " 'https://i.ytimg.com/vi/fTs_YKATgFk/hqdefault.jpg',\n",
       " 'https://i.ytimg.com/vi/fTs_YKATgFk/hqdefault.jpg',\n",
       " 'https://i.ytimg.com/vi/fTs_YKATgFk/hqdefault.jpg',\n",
       " 'https://i.ytimg.com/vi/fTs_YKATgFk/hqdefault.jpg',\n",
       " 'https://i.ytimg.com/vi/1NxzvMGCuWw/hqdefault.jpg',\n",
       " 'https://i.ytimg.com/vi/1NxzvMGCuWw/hqdefault.jpg',\n",
       " 'https://i.ytimg.com/vi/1NxzvMGCuWw/hqdefault.jpg',\n",
       " 'https://i.ytimg.com/vi/1NxzvMGCuWw/hqdefault.jpg',\n",
       " 'https://i.ytimg.com/vi/69iYOoLP4GQ/hqdefault.jpg',\n",
       " 'https://i.ytimg.com/vi/69iYOoLP4GQ/hqdefault.jpg',\n",
       " 'https://i.ytimg.com/vi/69iYOoLP4GQ/hqdefault.jpg',\n",
       " 'https://i.ytimg.com/vi/69iYOoLP4GQ/hqdefault.jpg',\n",
       " 'https://i.ytimg.com/vi/hbX1ELIQ1rE/hqdefault.jpg',\n",
       " 'https://i.ytimg.com/vi/hbX1ELIQ1rE/hqdefault.jpg',\n",
       " 'https://i.ytimg.com/vi/hbX1ELIQ1rE/hqdefault.jpg',\n",
       " 'https://i.ytimg.com/vi/hbX1ELIQ1rE/hqdefault.jpg',\n",
       " 'https://i.ytimg.com/vi/3b-Wprhc_P8/hqdefault.jpg',\n",
       " 'https://i.ytimg.com/vi/3b-Wprhc_P8/hqdefault.jpg',\n",
       " 'https://i.ytimg.com/vi/3b-Wprhc_P8/hqdefault.jpg',\n",
       " 'https://i.ytimg.com/vi/3b-Wprhc_P8/hqdefault.jpg',\n",
       " 'https://i.ytimg.com/vi/NMccZNVI2Sw/hqdefault.jpg',\n",
       " 'https://i.ytimg.com/vi/NMccZNVI2Sw/hqdefault.jpg',\n",
       " 'https://i.ytimg.com/vi/NMccZNVI2Sw/hqdefault.jpg',\n",
       " 'https://i.ytimg.com/vi/NMccZNVI2Sw/hqdefault.jpg',\n",
       " 'https://i.ytimg.com/vi/gEQs1uzH4j4/hqdefault.jpg',\n",
       " 'https://i.ytimg.com/vi/gEQs1uzH4j4/hqdefault.jpg',\n",
       " 'https://i.ytimg.com/vi/gEQs1uzH4j4/hqdefault.jpg',\n",
       " 'https://i.ytimg.com/vi/gEQs1uzH4j4/hqdefault.jpg',\n",
       " 'https://i.ytimg.com/vi/uUgZdvqOspk/hqdefault.jpg',\n",
       " 'https://i.ytimg.com/vi/uUgZdvqOspk/hqdefault.jpg',\n",
       " 'https://i.ytimg.com/vi/uUgZdvqOspk/hqdefault.jpg',\n",
       " 'https://i.ytimg.com/vi/uUgZdvqOspk/hqdefault.jpg',\n",
       " 'https://i.ytimg.com/vi/dI2GjHPrLJ4/hqdefault.jpg',\n",
       " 'https://i.ytimg.com/vi/dI2GjHPrLJ4/hqdefault.jpg',\n",
       " 'https://i.ytimg.com/vi/dI2GjHPrLJ4/hqdefault.jpg',\n",
       " 'https://i.ytimg.com/vi/dI2GjHPrLJ4/hqdefault.jpg',\n",
       " 'https://i.ytimg.com/vi/ypvdmJXaV1M/hqdefault.jpg',\n",
       " 'https://i.ytimg.com/vi/ypvdmJXaV1M/hqdefault.jpg',\n",
       " 'https://i.ytimg.com/vi/ypvdmJXaV1M/hqdefault.jpg',\n",
       " 'https://i.ytimg.com/vi/ypvdmJXaV1M/hqdefault.jpg',\n",
       " 'https://i.ytimg.com/vi/Fyc86kVIePE/hqdefault.jpg',\n",
       " 'https://i.ytimg.com/vi/Fyc86kVIePE/hqdefault.jpg',\n",
       " 'https://i.ytimg.com/vi/Fyc86kVIePE/hqdefault.jpg',\n",
       " 'https://i.ytimg.com/vi/Fyc86kVIePE/hqdefault.jpg',\n",
       " 'https://i.ytimg.com/vi/FH-FmcjEKnc/hqdefault.jpg',\n",
       " 'https://i.ytimg.com/vi/FH-FmcjEKnc/hqdefault.jpg',\n",
       " 'https://i.ytimg.com/vi/FH-FmcjEKnc/hqdefault.jpg',\n",
       " 'https://i.ytimg.com/vi/FH-FmcjEKnc/hqdefault.jpg',\n",
       " 'https://i.ytimg.com/vi/ak3BxYzSqsQ/hqdefault.jpg',\n",
       " 'https://i.ytimg.com/vi/ak3BxYzSqsQ/hqdefault.jpg',\n",
       " 'https://i.ytimg.com/vi/ak3BxYzSqsQ/hqdefault.jpg',\n",
       " 'https://i.ytimg.com/vi/ak3BxYzSqsQ/hqdefault.jpg',\n",
       " 'https://i.ytimg.com/vi/Z4PIhp5ifcw/hqdefault.jpg',\n",
       " 'https://i.ytimg.com/vi/Z4PIhp5ifcw/hqdefault.jpg',\n",
       " 'https://i.ytimg.com/vi/Z4PIhp5ifcw/hqdefault.jpg',\n",
       " 'https://i.ytimg.com/vi/Z4PIhp5ifcw/hqdefault.jpg',\n",
       " 'https://i.ytimg.com/vi/B-U-ItdMUVw/hqdefault.jpg',\n",
       " 'https://i.ytimg.com/vi/B-U-ItdMUVw/hqdefault.jpg',\n",
       " 'https://i.ytimg.com/vi/B-U-ItdMUVw/hqdefault.jpg',\n",
       " 'https://i.ytimg.com/vi/B-U-ItdMUVw/hqdefault.jpg',\n",
       " 'https://i.ytimg.com/vi/ZA2oNhtNk3w/hqdefault.jpg',\n",
       " 'https://i.ytimg.com/vi/ZA2oNhtNk3w/hqdefault.jpg',\n",
       " 'https://i.ytimg.com/vi/ZA2oNhtNk3w/hqdefault.jpg',\n",
       " 'https://i.ytimg.com/vi/ZA2oNhtNk3w/hqdefault.jpg',\n",
       " 'https://i.ytimg.com/vi/VcXYlkICcQU/hqdefault.jpg',\n",
       " 'https://i.ytimg.com/vi/VcXYlkICcQU/hqdefault.jpg',\n",
       " 'https://i.ytimg.com/vi/VcXYlkICcQU/hqdefault.jpg',\n",
       " 'https://i.ytimg.com/vi/VcXYlkICcQU/hqdefault.jpg',\n",
       " 'https://i.ytimg.com/vi/gMEVx7e5x6A/hqdefault.jpg',\n",
       " 'https://i.ytimg.com/vi/gMEVx7e5x6A/hqdefault.jpg',\n",
       " 'https://i.ytimg.com/vi/gMEVx7e5x6A/hqdefault.jpg',\n",
       " 'https://i.ytimg.com/vi/gMEVx7e5x6A/hqdefault.jpg']"
      ]
     },
     "execution_count": 16,
     "metadata": {},
     "output_type": "execute_result"
    }
   ],
   "source": [
    "vid_thumbnails"
   ]
  },
  {
   "cell_type": "code",
   "execution_count": 17,
   "id": "b7c64566",
   "metadata": {},
   "outputs": [],
   "source": [
    "vid_links = re.findall(r\"watch\\?v=[A-Za-z0-9_-]{11}\", response_text)"
   ]
  },
  {
   "cell_type": "code",
   "execution_count": 18,
   "id": "91d94bc1",
   "metadata": {},
   "outputs": [
    {
     "data": {
      "text/plain": [
       "['watch?v=7DmwEhCYveY',\n",
       " 'watch?v=rwKPXHUlmks',\n",
       " 'watch?v=NmbKi3ReCIY',\n",
       " 'watch?v=wIp3veR_9Ag',\n",
       " 'watch?v=9YJreDo3Rro',\n",
       " 'watch?v=gFs1oawp4AQ',\n",
       " 'watch?v=ioZUnZmGN_Y',\n",
       " 'watch?v=Jfxh-EKMv6E',\n",
       " 'watch?v=X1_BZKmKeOg',\n",
       " 'watch?v=gO_lOF0MqJg',\n",
       " 'watch?v=kTzW19homGM',\n",
       " 'watch?v=-41EHhuybOQ',\n",
       " 'watch?v=fTs_YKATgFk',\n",
       " 'watch?v=1NxzvMGCuWw',\n",
       " 'watch?v=69iYOoLP4GQ',\n",
       " 'watch?v=hbX1ELIQ1rE',\n",
       " 'watch?v=3b-Wprhc_P8',\n",
       " 'watch?v=NMccZNVI2Sw',\n",
       " 'watch?v=gEQs1uzH4j4',\n",
       " 'watch?v=uUgZdvqOspk',\n",
       " 'watch?v=dI2GjHPrLJ4',\n",
       " 'watch?v=ypvdmJXaV1M',\n",
       " 'watch?v=Fyc86kVIePE',\n",
       " 'watch?v=FH-FmcjEKnc',\n",
       " 'watch?v=ak3BxYzSqsQ',\n",
       " 'watch?v=Z4PIhp5ifcw',\n",
       " 'watch?v=B-U-ItdMUVw',\n",
       " 'watch?v=ZA2oNhtNk3w',\n",
       " 'watch?v=VcXYlkICcQU',\n",
       " 'watch?v=gMEVx7e5x6A']"
      ]
     },
     "execution_count": 18,
     "metadata": {},
     "output_type": "execute_result"
    }
   ],
   "source": [
    "vid_links"
   ]
  },
  {
   "cell_type": "code",
   "execution_count": 19,
   "id": "c696f603",
   "metadata": {},
   "outputs": [],
   "source": [
    "pattern3 = re.compile(r\"[0-9]+(\\.[0-9]+)?[a-zA-Z]*K views\")  # view count"
   ]
  },
  {
   "cell_type": "code",
   "execution_count": 20,
   "id": "aa7f6773",
   "metadata": {},
   "outputs": [
    {
     "data": {
      "text/plain": [
       "re.compile(r'[0-9]+(\\.[0-9]+)?[a-zA-Z]*K views', re.UNICODE)"
      ]
     },
     "execution_count": 20,
     "metadata": {},
     "output_type": "execute_result"
    }
   ],
   "source": [
    "pattern3"
   ]
  },
  {
   "cell_type": "code",
   "execution_count": 21,
   "id": "f07f6955",
   "metadata": {},
   "outputs": [
    {
     "data": {
      "text/plain": [
       "re.compile(r'\\d+ (minutes|hours|hour|days|day|weeks|week|years|year) ago',\n",
       "re.UNICODE)"
      ]
     },
     "execution_count": 21,
     "metadata": {},
     "output_type": "execute_result"
    }
   ],
   "source": [
    "pattern4 = re.compile(r\"\\d+ (minutes|hours|hour|days|day|weeks|week|years|year) ago\")  # vedio age\n",
    "pattern4"
   ]
  },
  {
   "cell_type": "code",
   "execution_count": 22,
   "id": "85ee6695",
   "metadata": {},
   "outputs": [],
   "source": [
    "matches1 = pattern3.finditer(response_text)\n",
    "matches2 = pattern4.finditer(response_text)"
   ]
  },
  {
   "cell_type": "code",
   "execution_count": 23,
   "id": "73785340",
   "metadata": {},
   "outputs": [],
   "source": [
    "vid_viewcounts=[]\n",
    "vid_ages=[]\n",
    "count = 0\n",
    "for match1,match2 in zip(matches1,matches2):\n",
    "    vid_ages.append(match2[0])\n",
    "    vid_viewcounts.append(match1[0])"
   ]
  },
  {
   "cell_type": "code",
   "execution_count": 24,
   "id": "c2bac7f2",
   "metadata": {},
   "outputs": [
    {
     "data": {
      "text/plain": [
       "[{'title': 'Developers, Secure your API | Pynt',\n",
       "  'thumbnail': 'https://i.ytimg.com/vi/7DmwEhCYveY/hqdefault.jpg',\n",
       "  'link': 'https://www.youtube.com/watch?v=7DmwEhCYveY',\n",
       "  'viewcount': '6.6K views',\n",
       "  'age': '12 days ago'},\n",
       " {'title': 'Private Blockchain | Hyperledger Fabric | Getting Started',\n",
       "  'thumbnail': 'https://i.ytimg.com/vi/rwKPXHUlmks/hqdefault.jpg',\n",
       "  'link': 'https://www.youtube.com/watch?v=rwKPXHUlmks',\n",
       "  'viewcount': '4.1K views',\n",
       "  'age': '2 weeks ago'},\n",
       " {'title': 'Reading Blockchain Data on Ethereum using Astra Block',\n",
       "  'thumbnail': 'https://i.ytimg.com/vi/NmbKi3ReCIY/hqdefault.jpg',\n",
       "  'link': 'https://www.youtube.com/watch?v=NmbKi3ReCIY',\n",
       "  'viewcount': '7.1K views',\n",
       "  'age': '3 weeks ago'}]"
      ]
     },
     "execution_count": 24,
     "metadata": {},
     "output_type": "execute_result"
    }
   ],
   "source": [
    "titles = vid_titles[0:10]\n",
    "thumbnails = list(dict.fromkeys(vid_thumbnails))\n",
    "links = vid_links[0:10]\n",
    "viewcounts=vid_viewcounts[0:20:2]\n",
    "ages=vid_ages[0:20:2]\n",
    "\n",
    "details_list=[]\n",
    "\n",
    "for title,thumbnail,link,viewcount,age in zip(titles,thumbnails,links,viewcounts,ages):\n",
    "    details_dict={\n",
    "    \"title\":title.split('\"')[-2], \"thumbnail\": thumbnail, \"link\": \"https://www.youtube.com/\"+link,\n",
    "    \"viewcount\": viewcount, \"age\": age\n",
    "    }\n",
    "    details_list.append(details_dict)\n",
    "\n",
    "\n",
    "\n",
    "details_list"
   ]
  },
  {
   "cell_type": "code",
   "execution_count": null,
   "id": "6f23004e",
   "metadata": {},
   "outputs": [],
   "source": []
  },
  {
   "cell_type": "code",
   "execution_count": null,
   "id": "33a04c60",
   "metadata": {},
   "outputs": [],
   "source": []
  },
  {
   "cell_type": "code",
   "execution_count": null,
   "id": "51b920d6",
   "metadata": {},
   "outputs": [],
   "source": []
  }
 ],
 "metadata": {
  "kernelspec": {
   "display_name": "Python 3 (ipykernel)",
   "language": "python",
   "name": "python3"
  },
  "language_info": {
   "codemirror_mode": {
    "name": "ipython",
    "version": 3
   },
   "file_extension": ".py",
   "mimetype": "text/x-python",
   "name": "python",
   "nbconvert_exporter": "python",
   "pygments_lexer": "ipython3",
   "version": "3.9.13"
  }
 },
 "nbformat": 4,
 "nbformat_minor": 5
}
